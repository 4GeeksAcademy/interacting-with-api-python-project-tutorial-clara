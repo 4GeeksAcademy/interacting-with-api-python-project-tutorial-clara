{
    "cells": [
        {
            "cell_type": "markdown",
            "metadata": {},
            "source": [
                "# Explore here"
            ]
        },
        {
            "cell_type": "code",
            "execution_count": 2,
            "metadata": {},
            "outputs": [],
            "source": [
                "# Para poder leer los archivos .env\n",
                "import os\n",
                "from dotenv import load_dotenv\n",
                "\n",
                "# Librería para utilizar la API de Spotify: \n",
                "import spotipy \n",
                "\n",
                "# Librería para autenticar aplicaciones de Spotipy usando credenciales de cliente:\n",
                "from spotipy.oauth2 import SpotifyClientCredentials\n",
                "\n",
                "# Librería para poder utilizar DataFrames:\n",
                "import pandas as pd\n",
                "\n",
                "# Librería para poder mostrar gráficos:\n",
                "import matplotlib.pyplot as plt\n"
            ]
        },
        {
            "cell_type": "markdown",
            "metadata": {},
            "source": [
                "### Paso 1 - Creación de Cuenta Desrrollador en Spotify:\n",
                "\n",
                "Se ha creado una **cuenta de desarrollador en Spotify** a partir del link aportado y se han obtenido los **números de cliente y secreto** que se utilizarán en el Paso 3."
            ]
        },
        {
            "cell_type": "markdown",
            "metadata": {},
            "source": [
                "### Paso 2 - Configuración Inicial:\n",
                "\n",
                "Todo el proyecto se ha desarrollado en el presente archivo `.ipynb` en lugar de en el archivo `app.py` para poder utilizar la funcionalidad del notebook"
            ]
        },
        {
            "cell_type": "code",
            "execution_count": 58,
            "metadata": {},
            "outputs": [
                {
                    "name": "stdout",
                    "output_type": "stream",
                    "text": [
                        "Defaulting to user installation because normal site-packages is not writeable\n",
                        "Requirement already satisfied: spotipy in /home/vscode/.local/lib/python3.11/site-packages (2.23.0)\n",
                        "Requirement already satisfied: redis>=3.5.3 in /home/vscode/.local/lib/python3.11/site-packages (from spotipy) (5.2.1)\n",
                        "Requirement already satisfied: requests>=2.25.0 in /home/vscode/.local/lib/python3.11/site-packages (from spotipy) (2.27.1)\n",
                        "Requirement already satisfied: six>=1.15.0 in /home/vscode/.local/lib/python3.11/site-packages (from spotipy) (1.17.0)\n",
                        "Requirement already satisfied: urllib3>=1.26.0 in /home/vscode/.local/lib/python3.11/site-packages (from spotipy) (1.26.20)\n",
                        "Requirement already satisfied: certifi>=2017.4.17 in /home/vscode/.local/lib/python3.11/site-packages (from requests>=2.25.0->spotipy) (2024.12.14)\n",
                        "Requirement already satisfied: charset-normalizer~=2.0.0 in /home/vscode/.local/lib/python3.11/site-packages (from requests>=2.25.0->spotipy) (2.0.12)\n",
                        "Requirement already satisfied: idna<4,>=2.5 in /home/vscode/.local/lib/python3.11/site-packages (from requests>=2.25.0->spotipy) (3.10)\n",
                        "\n",
                        "\u001b[1m[\u001b[0m\u001b[34;49mnotice\u001b[0m\u001b[1;39;49m]\u001b[0m\u001b[39;49m A new release of pip is available: \u001b[0m\u001b[31;49m23.1.2\u001b[0m\u001b[39;49m -> \u001b[0m\u001b[32;49m24.3.1\u001b[0m\n",
                        "\u001b[1m[\u001b[0m\u001b[34;49mnotice\u001b[0m\u001b[1;39;49m]\u001b[0m\u001b[39;49m To update, run: \u001b[0m\u001b[32;49mpip install --upgrade pip\u001b[0m\n"
                    ]
                }
            ],
            "source": [
                "# Comando para instalar la librería Spotipy en el entorno de desarrollo:\n",
                "! pip install spotipy"
            ]
        },
        {
            "cell_type": "markdown",
            "metadata": {},
            "source": [
                "### Paso 3 - Variables de Entorno: \n",
                "\n",
                "Se ha creado un archivo `.env`con el número de cliente `(CLIENT_ID)` y el número secreto `(CLIENT_SECRET)`.\n",
                "\n",
                "Debido a la **confidencialidad** de esta información, se ha explicitado el nombre del archivo donde se guardan dichos datos en `.gitignore` para evitar que se comparta.\n"
            ]
        },
        {
            "cell_type": "code",
            "execution_count": 3,
            "metadata": {},
            "outputs": [],
            "source": [
                "# Se explicita la ruta donde se encuentra el archivo desde donde se han de extraer las credenciales:\n",
                "load_dotenv('/workspaces/interacting-with-api-python-project-tutorial-clara/src/credentials.env');\n",
                "\n",
                "# Se guardan las credenciales\n",
                "client_id = os.environ.get(\"CLIENT_ID\");\n",
                "client_secret = os.environ.get(\"CLIENT_SECRET\");\n"
            ]
        },
        {
            "cell_type": "markdown",
            "metadata": {},
            "source": [
                "### Paso 4 - Inicialización de la Biblioteca Spotipy:"
            ]
        },
        {
            "cell_type": "code",
            "execution_count": 4,
            "metadata": {},
            "outputs": [],
            "source": [
                "# Se gestiona la autenticación en Spotipy con las credenciales dadas por la cuenta:\n",
                "client_credential_manager = SpotifyClientCredentials(client_id = client_id, client_secret = client_secret);\n",
                "\n",
                "# Se crea una instancia de Spotify a partir de las credeciales para establecer la conexión:\n",
                "conexion = spotipy.Spotify (client_credentials_manager = client_credential_manager)"
            ]
        },
        {
            "cell_type": "markdown",
            "metadata": {},
            "source": [
                "### Paso 5 - Obtención Top 10 Canciones:\n",
                "\n",
                "En este caso se ha tomado la ID de la artista Miley Cryus.\n",
                "\n",
                "Se ha programado esta funcionalidad de forma que, a la vez se cree el DataFrame solicitado en el siguiente paso para no tener que repetir el procedimiento."
            ]
        },
        {
            "cell_type": "code",
            "execution_count": 7,
            "metadata": {},
            "outputs": [
                {
                    "name": "stdout",
                    "output_type": "stream",
                    "text": [
                        " Track: Flowers\n",
                        " Duración: 3.34\n",
                        " Popularidad: 86/100\n",
                        "--------------------------------------------------\n",
                        " Track: Party In The U.S.A.\n",
                        " Duración: 3.37\n",
                        " Popularidad: 78/100\n",
                        "--------------------------------------------------\n",
                        " Track: Angels Like You\n",
                        " Duración: 3.27\n",
                        " Popularidad: 78/100\n",
                        "--------------------------------------------------\n",
                        " Track: Wrecking Ball\n",
                        " Duración: 3.69\n",
                        " Popularidad: 78/100\n",
                        "--------------------------------------------------\n",
                        " Track: Nothing Breaks Like a Heart (feat. Miley Cyrus)\n",
                        " Duración: 3.62\n",
                        " Popularidad: 75/100\n",
                        "--------------------------------------------------\n",
                        " Track: We Can't Stop\n",
                        " Duración: 3.85\n",
                        " Popularidad: 77/100\n",
                        "--------------------------------------------------\n",
                        " Track: The Climb\n",
                        " Duración: 3.91\n",
                        " Popularidad: 70/100\n",
                        "--------------------------------------------------\n",
                        " Track: Prisoner (feat. Dua Lipa)\n",
                        " Duración: 2.82\n",
                        " Popularidad: 70/100\n",
                        "--------------------------------------------------\n",
                        " Track: Used To Be Young\n",
                        " Duración: 3.19\n",
                        " Popularidad: 69/100\n",
                        "--------------------------------------------------\n",
                        " Track: Rockin' Around The Christmas Tree\n",
                        " Duración: 1.94\n",
                        " Popularidad: 68/100\n",
                        "--------------------------------------------------\n"
                    ]
                }
            ],
            "source": [
                "# Se guarda el ID del artista para poder generar la URL a través de él:\n",
                "id_artist = \"5YGY8feqx7naU7z4HrwZM6\";\n",
                "url = f\"spotify:artist:{id_artist}\";\n",
                "\n",
                "# Se obtienen las canciones más populares del artista especificado:\n",
                "top_tracks = conexion.artist_top_tracks(url);\n",
                "\n",
                "# Se genera una lista vacía para poder almacenar la información extraída gracias a la API:\n",
                "data = [];\n",
                "\n",
                "# Se itera a través de las 10 primeras canciones más populares del artista, guardando la información relevante:\n",
                "for track in top_tracks['tracks'][:10]:\n",
                "\n",
                "    # Se va guardando la información relevante en una lista de listas:\n",
                "    data.append ((track['name'], round((track['duration_ms'])/60000, 2), track['popularity']));\n",
                "\n",
                "    # Se imprime la información deseada:\n",
                "    print (f\" Track: {track['name']}\");\n",
                "    print (f\" Duración: {round((track['duration_ms'])/60000, 2)}\");\n",
                "    print (f\" Popularidad: {track['popularity']}/100\");\n",
                "    print (\"-\"*50);\n",
                "    \n",
                "    "
            ]
        },
        {
            "cell_type": "markdown",
            "metadata": {},
            "source": [
                "Una vez se tiene toda la información almacenada en la lista de listas, se pasa a un DataFrame"
            ]
        },
        {
            "cell_type": "code",
            "execution_count": 8,
            "metadata": {},
            "outputs": [
                {
                    "data": {
                        "text/html": [
                            "<div>\n",
                            "<style scoped>\n",
                            "    .dataframe tbody tr th:only-of-type {\n",
                            "        vertical-align: middle;\n",
                            "    }\n",
                            "\n",
                            "    .dataframe tbody tr th {\n",
                            "        vertical-align: top;\n",
                            "    }\n",
                            "\n",
                            "    .dataframe thead th {\n",
                            "        text-align: right;\n",
                            "    }\n",
                            "</style>\n",
                            "<table border=\"1\" class=\"dataframe\">\n",
                            "  <thead>\n",
                            "    <tr style=\"text-align: right;\">\n",
                            "      <th></th>\n",
                            "      <th>Canción</th>\n",
                            "      <th>Duracion</th>\n",
                            "      <th>Popularidad</th>\n",
                            "    </tr>\n",
                            "  </thead>\n",
                            "  <tbody>\n",
                            "    <tr>\n",
                            "      <th>0</th>\n",
                            "      <td>Flowers</td>\n",
                            "      <td>3.34</td>\n",
                            "      <td>86</td>\n",
                            "    </tr>\n",
                            "    <tr>\n",
                            "      <th>1</th>\n",
                            "      <td>Party In The U.S.A.</td>\n",
                            "      <td>3.37</td>\n",
                            "      <td>78</td>\n",
                            "    </tr>\n",
                            "    <tr>\n",
                            "      <th>2</th>\n",
                            "      <td>Angels Like You</td>\n",
                            "      <td>3.27</td>\n",
                            "      <td>78</td>\n",
                            "    </tr>\n",
                            "    <tr>\n",
                            "      <th>3</th>\n",
                            "      <td>Wrecking Ball</td>\n",
                            "      <td>3.69</td>\n",
                            "      <td>78</td>\n",
                            "    </tr>\n",
                            "    <tr>\n",
                            "      <th>4</th>\n",
                            "      <td>Nothing Breaks Like a Heart (feat. Miley Cyrus)</td>\n",
                            "      <td>3.62</td>\n",
                            "      <td>75</td>\n",
                            "    </tr>\n",
                            "    <tr>\n",
                            "      <th>5</th>\n",
                            "      <td>We Can't Stop</td>\n",
                            "      <td>3.85</td>\n",
                            "      <td>77</td>\n",
                            "    </tr>\n",
                            "    <tr>\n",
                            "      <th>6</th>\n",
                            "      <td>The Climb</td>\n",
                            "      <td>3.91</td>\n",
                            "      <td>70</td>\n",
                            "    </tr>\n",
                            "    <tr>\n",
                            "      <th>7</th>\n",
                            "      <td>Prisoner (feat. Dua Lipa)</td>\n",
                            "      <td>2.82</td>\n",
                            "      <td>70</td>\n",
                            "    </tr>\n",
                            "    <tr>\n",
                            "      <th>8</th>\n",
                            "      <td>Used To Be Young</td>\n",
                            "      <td>3.19</td>\n",
                            "      <td>69</td>\n",
                            "    </tr>\n",
                            "    <tr>\n",
                            "      <th>9</th>\n",
                            "      <td>Rockin' Around The Christmas Tree</td>\n",
                            "      <td>1.94</td>\n",
                            "      <td>68</td>\n",
                            "    </tr>\n",
                            "  </tbody>\n",
                            "</table>\n",
                            "</div>"
                        ],
                        "text/plain": [
                            "                                           Canción  Duracion  Popularidad\n",
                            "0                                          Flowers      3.34           86\n",
                            "1                              Party In The U.S.A.      3.37           78\n",
                            "2                                  Angels Like You      3.27           78\n",
                            "3                                    Wrecking Ball      3.69           78\n",
                            "4  Nothing Breaks Like a Heart (feat. Miley Cyrus)      3.62           75\n",
                            "5                                    We Can't Stop      3.85           77\n",
                            "6                                        The Climb      3.91           70\n",
                            "7                        Prisoner (feat. Dua Lipa)      2.82           70\n",
                            "8                                 Used To Be Young      3.19           69\n",
                            "9                Rockin' Around The Christmas Tree      1.94           68"
                        ]
                    },
                    "execution_count": 8,
                    "metadata": {},
                    "output_type": "execute_result"
                }
            ],
            "source": [
                "# Se pasa la lista de listas a DataFrame:\n",
                "df = pd.DataFrame (data, columns=['Canción', 'Duracion', 'Popularidad']);\n",
                "\n",
                "df"
            ]
        },
        {
            "cell_type": "code",
            "execution_count": 10,
            "metadata": {},
            "outputs": [
                {
                    "data": {
                        "text/html": [
                            "<div>\n",
                            "<style scoped>\n",
                            "    .dataframe tbody tr th:only-of-type {\n",
                            "        vertical-align: middle;\n",
                            "    }\n",
                            "\n",
                            "    .dataframe tbody tr th {\n",
                            "        vertical-align: top;\n",
                            "    }\n",
                            "\n",
                            "    .dataframe thead th {\n",
                            "        text-align: right;\n",
                            "    }\n",
                            "</style>\n",
                            "<table border=\"1\" class=\"dataframe\">\n",
                            "  <thead>\n",
                            "    <tr style=\"text-align: right;\">\n",
                            "      <th></th>\n",
                            "      <th>Canción</th>\n",
                            "      <th>Duracion</th>\n",
                            "      <th>Popularidad</th>\n",
                            "    </tr>\n",
                            "  </thead>\n",
                            "  <tbody>\n",
                            "    <tr>\n",
                            "      <th>0</th>\n",
                            "      <td>Flowers</td>\n",
                            "      <td>3.34</td>\n",
                            "      <td>86</td>\n",
                            "    </tr>\n",
                            "    <tr>\n",
                            "      <th>1</th>\n",
                            "      <td>Party In The U.S.A.</td>\n",
                            "      <td>3.37</td>\n",
                            "      <td>78</td>\n",
                            "    </tr>\n",
                            "    <tr>\n",
                            "      <th>2</th>\n",
                            "      <td>Angels Like You</td>\n",
                            "      <td>3.27</td>\n",
                            "      <td>78</td>\n",
                            "    </tr>\n",
                            "  </tbody>\n",
                            "</table>\n",
                            "</div>"
                        ],
                        "text/plain": [
                            "               Canción  Duracion  Popularidad\n",
                            "0              Flowers      3.34           86\n",
                            "1  Party In The U.S.A.      3.37           78\n",
                            "2      Angels Like You      3.27           78"
                        ]
                    },
                    "execution_count": 10,
                    "metadata": {},
                    "output_type": "execute_result"
                }
            ],
            "source": [
                "# Se ordena el DataFrame por Popularidad:\n",
                "lower_to_higher = df.sort_values (by = \"Popularidad\", ascending=True);\n",
                "higher_to_lower = df.sort_values (by = \"Popularidad\", ascending=False);\n",
                "\n",
                "# Se muestra el TOP 3:\n",
                "higher_to_lower.head(3)"
            ]
        },
        {
            "cell_type": "markdown",
            "metadata": {},
            "source": [
                "### Paso 6 - Análisis de la Relación Estadística entre la Duración y la Popularidad de las Canciones:"
            ]
        },
        {
            "cell_type": "code",
            "execution_count": 15,
            "metadata": {},
            "outputs": [
                {
                    "data": {
                        "image/png": "[encoded data removed]",
                        "text/plain": [
                            "<Figure size 1800x500 with 1 Axes>"
                        ]
                    },
                    "metadata": {},
                    "output_type": "display_data"
                }
            ],
            "source": [
                "# Se crea la figura:\n",
                "plt.figure(figsize= (18, 5));\n",
                "\n",
                "# Se realiza y muestra el gráfico:\n",
                "plt.scatter(higher_to_lower['Duracion'], higher_to_lower['Popularidad'], color='blue', alpha=0.6);\n",
                "plt.title(\"\\nRelación entre Duración y Popularidad\\n\");\n",
                "plt.grid(True);\n",
                "plt.xlabel(\"Duración [min]\");\n",
                "plt.ylabel(\"Popularidad [1/100]\");"
            ]
        },
        {
            "cell_type": "markdown",
            "metadata": {},
            "source": [
                "En el caso de la artista seleccionada, no se aprecia una relación clara entre la duración de las canciones y su popularidad, dado que no hay un patrón que indique una correlación ni ascendente ni descendente. \n",
                "\n",
                "Se puede ver, por ejemplo, que dos canciones muy lejanas en duración (2.8 mins y 3.9 mins aproximadamente) tiene un nivel de popularidad prácticamente igual, del 70/100.\n",
                "\n",
                "Por todo ello, no parece que las canciones más cortas sean más populares en el caso de la artista estudiada."
            ]
        }
    ],
    "metadata": {
        "kernelspec": {
            "display_name": "Python 3",
            "language": "python",
            "name": "python3"
        },
        "language_info": {
            "codemirror_mode": {
                "name": "ipython",
                "version": 3
            },
            "file_extension": ".py",
            "mimetype": "text/x-python",
            "name": "python",
            "nbconvert_exporter": "python",
            "pygments_lexer": "ipython3",
            "version": "3.11.4"
        },
        "orig_nbformat": 4
    },
    "nbformat": 4,
    "nbformat_minor": 2
}
